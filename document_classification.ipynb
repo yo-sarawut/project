{
  "nbformat": 4,
  "nbformat_minor": 0,
  "metadata": {
    "colab": {
      "name": "document_classification.ipynb",
      "provenance": [],
      "collapsed_sections": [],
      "authorship_tag": "ABX9TyO8Q7q10rNkiWLHXb97EUlG",
      "include_colab_link": true
    },
    "kernelspec": {
      "name": "python3",
      "display_name": "Python 3"
    }
  },
  "cells": [
    {
      "cell_type": "markdown",
      "metadata": {
        "id": "view-in-github",
        "colab_type": "text"
      },
      "source": [
        "<a href=\"https://colab.research.google.com/github/yosarawut/project/blob/master/document_classification.ipynb\" target=\"_parent\"><img src=\"https://colab.research.google.com/assets/colab-badge.svg\" alt=\"Open In Colab\"/></a>"
      ]
    },
    {
      "cell_type": "markdown",
      "metadata": {
        "id": "x28gaUnwEyGG"
      },
      "source": [
        "# Classification of text documents using sparse features\n",
        "\n",
        "\n",
        "This is an example showing how scikit-learn can be used to classify documents\n",
        "by topics using a bag-of-words approach. This example uses a scipy.sparse\n",
        "matrix to store the features and demonstrates various classifiers that can\n",
        "efficiently handle sparse matrices.\n",
        "\n",
        "The dataset used in this example is the 20 newsgroups dataset. It will be\n",
        "automatically downloaded, then cached.\n"
      ]
    },
    {
      "cell_type": "code",
      "metadata": {
        "id": "0N7wIhbKErO1"
      },
      "source": [
        "%matplotlib inline\n",
        "\n",
        "# Author: Peter Prettenhofer <peter.prettenhofer@gmail.com>\n",
        "#         Olivier Grisel <olivier.grisel@ensta.org>\n",
        "#         Mathieu Blondel <mathieu@mblondel.org>\n",
        "#         Lars Buitinck\n",
        "# License: BSD 3 clause\n",
        "import logging\n",
        "import numpy as np\n",
        "from optparse import OptionParser\n",
        "import sys\n",
        "from time import time\n",
        "import matplotlib.pyplot as plt\n",
        "\n",
        "from sklearn.datasets import fetch_20newsgroups\n",
        "from sklearn.feature_extraction.text import TfidfVectorizer\n",
        "from sklearn.feature_extraction.text import HashingVectorizer\n",
        "from sklearn.feature_selection import SelectFromModel\n",
        "from sklearn.feature_selection import SelectKBest, chi2\n",
        "from sklearn.linear_model import RidgeClassifier\n",
        "from sklearn.pipeline import Pipeline\n",
        "from sklearn.svm import LinearSVC\n",
        "from sklearn.linear_model import SGDClassifier\n",
        "from sklearn.linear_model import Perceptron\n",
        "from sklearn.linear_model import PassiveAggressiveClassifier\n",
        "from sklearn.naive_bayes import BernoulliNB, ComplementNB, MultinomialNB\n",
        "from sklearn.neighbors import KNeighborsClassifier\n",
        "from sklearn.neighbors import NearestCentroid\n",
        "from sklearn.ensemble import RandomForestClassifier\n",
        "from sklearn.utils.extmath import density\n",
        "from sklearn import metrics"
      ],
      "execution_count": 1,
      "outputs": []
    },
    {
      "cell_type": "code",
      "metadata": {
        "id": "JljmwbhWK9N3"
      },
      "source": [
        "import pandas as pd\n",
        "\n",
        "urls = 'https://github.com/dragon-library/work_space/raw/main/HS_Code/HS/hs_code.xlsx'\n",
        "\n",
        "def get_master(sheets):\n",
        "    data = pd.read_excel(urls,sheet_name= sheets)\n",
        "    data['chapter'] = data['chapter'].map('{:02}'.format)\n",
        "    data = data[['chapter','description']]\n",
        "    data['description'] = data['description'].str.lower()\n",
        " #   data = data.rename(columns={'heading' : 'target', 'product_desc' : 'question_text'})\n",
        "    \n",
        "    return data\n",
        "\n",
        "\n",
        "sheets = '8_digit'\n",
        "inputs = get_master(sheets)\n",
        "sheets = '2_digit'\n",
        "master = get_master(sheets)\n",
        "sheets = 'deci'\n",
        "deci = get_master(sheets)\n",
        "sheets = 'decx'\n",
        "decx = get_master(sheets)\n",
        "trains = pd.concat([inputs,master,deci], ignore_index=True)"
      ],
      "execution_count": 2,
      "outputs": []
    },
    {
      "cell_type": "code",
      "metadata": {
        "id": "GlPhyt_kE_d3",
        "outputId": "1aed2f89-897a-4883-c694-35d395565706",
        "colab": {
          "base_uri": "https://localhost:8080/"
        }
      },
      "source": [
        "# Display progress logs on stdout\n",
        "logging.basicConfig(level=logging.INFO,\n",
        "                    format='%(asctime)s %(levelname)s %(message)s')\n",
        "\n",
        "op = OptionParser()\n",
        "op.add_option(\"--report\",\n",
        "              action=\"store_true\", dest=\"print_report\",\n",
        "              help=\"Print a detailed classification report.\")\n",
        "op.add_option(\"--chi2_select\",\n",
        "              action=\"store\", type=\"int\", dest=\"select_chi2\",\n",
        "              help=\"Select some number of features using a chi-squared test\")\n",
        "op.add_option(\"--confusion_matrix\",\n",
        "              action=\"store_true\", dest=\"print_cm\",\n",
        "              help=\"Print the confusion matrix.\")\n",
        "op.add_option(\"--top10\",\n",
        "              action=\"store_true\", dest=\"print_top10\",\n",
        "              help=\"Print ten most discriminative terms per class\"\n",
        "                   \" for every classifier.\")\n",
        "op.add_option(\"--all_categories\",\n",
        "              action=\"store_true\", dest=\"all_categories\",\n",
        "              help=\"Whether to use all categories or not.\")\n",
        "op.add_option(\"--use_hashing\",\n",
        "              action=\"store_true\",\n",
        "              help=\"Use a hashing vectorizer.\")\n",
        "op.add_option(\"--n_features\",\n",
        "              action=\"store\", type=int, default=2 ** 16,\n",
        "              help=\"n_features when using the hashing vectorizer.\")\n",
        "op.add_option(\"--filtered\",\n",
        "              action=\"store_true\",\n",
        "              help=\"Remove newsgroup information that is easily overfit: \"\n",
        "                   \"headers, signatures, and quoting.\")\n",
        "\n",
        "\n",
        "def is_interactive():\n",
        "    return not hasattr(sys.modules['__main__'], '__file__')\n",
        "\n",
        "\n",
        "# work-around for Jupyter notebook and IPython console\n",
        "argv = [] if is_interactive() else sys.argv[1:]\n",
        "(opts, args) = op.parse_args(argv)\n",
        "if len(args) > 0:\n",
        "    op.error(\"this script takes no arguments.\")\n",
        "    sys.exit(1)\n",
        "\n",
        "print(__doc__)\n",
        "op.print_help()\n",
        "print()"
      ],
      "execution_count": 3,
      "outputs": [
        {
          "output_type": "stream",
          "text": [
            "Automatically created module for IPython interactive environment\n",
            "Usage: ipykernel_launcher.py [options]\n",
            "\n",
            "Options:\n",
            "  -h, --help            show this help message and exit\n",
            "  --report              Print a detailed classification report.\n",
            "  --chi2_select=SELECT_CHI2\n",
            "                        Select some number of features using a chi-squared\n",
            "                        test\n",
            "  --confusion_matrix    Print the confusion matrix.\n",
            "  --top10               Print ten most discriminative terms per class for\n",
            "                        every classifier.\n",
            "  --all_categories      Whether to use all categories or not.\n",
            "  --use_hashing         Use a hashing vectorizer.\n",
            "  --n_features=N_FEATURES\n",
            "                        n_features when using the hashing vectorizer.\n",
            "  --filtered            Remove newsgroup information that is easily overfit:\n",
            "                        headers, signatures, and quoting.\n",
            "\n"
          ],
          "name": "stdout"
        }
      ]
    },
    {
      "cell_type": "markdown",
      "metadata": {
        "id": "ITzSucx7FNKL"
      },
      "source": [
        "Load data from the training set\n",
        "------------------------------------\n",
        "Let's load data from the newsgroups dataset which comprises around 18000\n",
        "newsgroups posts on 20 topics split in two subsets: one for training (or\n",
        "development) and the other one for testing (or for performance evaluation)."
      ]
    },
    {
      "cell_type": "code",
      "metadata": {
        "id": "5a-sQJ-TIyMz",
        "outputId": "13a194bd-3cc5-4875-d139-1d164ce489cf",
        "colab": {
          "base_uri": "https://localhost:8080/"
        }
      },
      "source": [
        "if opts.all_categories:\n",
        "    categories = None\n",
        "else:\n",
        "    categories = [\n",
        "        'alt.atheism',\n",
        "        'talk.religion.misc',\n",
        "        'comp.graphics',\n",
        "        'sci.space',\n",
        "    ]\n",
        "\n",
        "if opts.filtered:\n",
        "    remove = ('headers', 'footers', 'quotes')\n",
        "else:\n",
        "    remove = ()\n",
        "\n",
        "print(\"Loading 20 newsgroups dataset for categories:\")\n",
        "print(categories if categories else \"all\")"
      ],
      "execution_count": 4,
      "outputs": [
        {
          "output_type": "stream",
          "text": [
            "Loading 20 newsgroups dataset for categories:\n",
            "['alt.atheism', 'talk.religion.misc', 'comp.graphics', 'sci.space']\n"
          ],
          "name": "stdout"
        }
      ]
    },
    {
      "cell_type": "code",
      "metadata": {
        "id": "_VWkrP3tIyVH",
        "outputId": "a9ff3e1c-d99b-4d01-c30a-9528d89659a6",
        "colab": {
          "base_uri": "https://localhost:8080/"
        }
      },
      "source": [
        "data_train = trains.copy()\n",
        "\n",
        "data_test = decx.copy()\n",
        "\n",
        "print('data loaded')\n",
        "\n",
        "# order of labels in `target_names` can be different from `categories`\n",
        "target_names = data_train.chapter.unique()\n"
      ],
      "execution_count": 5,
      "outputs": [
        {
          "output_type": "stream",
          "text": [
            "data loaded\n"
          ],
          "name": "stdout"
        }
      ]
    },
    {
      "cell_type": "code",
      "metadata": {
        "id": "lFih_bCOIycp",
        "outputId": "89bc1868-b51b-4915-bbc4-3e55b6c98acb",
        "colab": {
          "base_uri": "https://localhost:8080/"
        }
      },
      "source": [
        "def size_mb(docs):\n",
        "    return sum(len(s.encode('utf-8')) for s in docs) / 1e6\n",
        "\n",
        "\n",
        "data_train_size_mb = size_mb(data_train.description)\n",
        "data_test_size_mb = size_mb(data_test.description)\n",
        "\n",
        "print(\"%d documents - %0.3fMB (training set)\" % (\n",
        "    len(data_train.description), data_train_size_mb))\n",
        "print(\"%d documents - %0.3fMB (test set)\" % (\n",
        "    len(data_test.description), data_test_size_mb))\n",
        "print(\"%d categories\" % len(target_names))\n",
        "print()\n",
        "\n",
        "# split a training set and a test set\n",
        "y_train, y_test = data_train.chapter, data_test.chapter"
      ],
      "execution_count": 6,
      "outputs": [
        {
          "output_type": "stream",
          "text": [
            "33987 documents - 2.080MB (training set)\n",
            "22225 documents - 0.425MB (test set)\n",
            "97 categories\n",
            "\n"
          ],
          "name": "stdout"
        }
      ]
    },
    {
      "cell_type": "code",
      "metadata": {
        "id": "eL6OD_66JDGU",
        "outputId": "1908e19d-f9ff-4bd7-ffb6-d921ae4d8307",
        "colab": {
          "base_uri": "https://localhost:8080/"
        }
      },
      "source": [
        "print(\"Extracting features from the training data using a sparse vectorizer\")\n",
        "t0 = time()\n",
        "if opts.use_hashing:\n",
        "    vectorizer = HashingVectorizer(stop_words='english', alternate_sign=False,\n",
        "                                   n_features=opts.n_features)\n",
        "    X_train = vectorizer.transform(data_train.description)\n",
        "else:\n",
        "    vectorizer = TfidfVectorizer(sublinear_tf=True, max_df=0.5,\n",
        "                                 stop_words='english')\n",
        "    X_train = vectorizer.fit_transform(data_train.description)\n",
        "duration = time() - t0\n",
        "print(\"done in %fs at %0.3fMB/s\" % (duration, data_train_size_mb / duration))\n",
        "print(\"n_samples: %d, n_features: %d\" % X_train.shape)\n",
        "print()\n",
        "\n",
        "print(\"Extracting features from the test data using the same vectorizer\")\n",
        "t0 = time()\n",
        "X_test = vectorizer.transform(data_test.description)\n",
        "duration = time() - t0\n",
        "print(\"done in %fs at %0.3fMB/s\" % (duration, data_test_size_mb / duration))\n",
        "print(\"n_samples: %d, n_features: %d\" % X_test.shape)\n",
        "print()\n"
      ],
      "execution_count": 7,
      "outputs": [
        {
          "output_type": "stream",
          "text": [
            "Extracting features from the training data using a sparse vectorizer\n",
            "done in 0.369577s at 5.628MB/s\n",
            "n_samples: 33987, n_features: 13946\n",
            "\n",
            "Extracting features from the test data using the same vectorizer\n",
            "done in 0.111639s at 3.805MB/s\n",
            "n_samples: 22225, n_features: 13946\n",
            "\n"
          ],
          "name": "stdout"
        }
      ]
    },
    {
      "cell_type": "code",
      "metadata": {
        "id": "j3S84UC3JDS_"
      },
      "source": [
        "# mapping from integer feature name to original token string\n",
        "if opts.use_hashing:\n",
        "    feature_names = None\n",
        "else:\n",
        "    feature_names = vectorizer.get_feature_names()\n",
        "\n",
        "if opts.select_chi2:\n",
        "    print(\"Extracting %d best features by a chi-squared test\" %\n",
        "          opts.select_chi2)\n",
        "    t0 = time()\n",
        "    ch2 = SelectKBest(chi2, k=opts.select_chi2)\n",
        "    X_train = ch2.fit_transform(X_train, y_train)\n",
        "    X_test = ch2.transform(X_test)\n",
        "    if feature_names:\n",
        "        # keep selected feature names\n",
        "        feature_names = [feature_names[i] for i\n",
        "                         in ch2.get_support(indices=True)]\n",
        "    print(\"done in %fs\" % (time() - t0))\n",
        "    print()\n",
        "\n",
        "if feature_names:\n",
        "    feature_names = np.asarray(feature_names)\n",
        "\n",
        "\n",
        "def trim(s):\n",
        "    \"\"\"Trim string to fit on terminal (assuming 80-column display)\"\"\"\n",
        "    return s if len(s) <= 80 else s[:77] + \"...\""
      ],
      "execution_count": 8,
      "outputs": []
    },
    {
      "cell_type": "markdown",
      "metadata": {
        "id": "1AxnPvdHJ8ge"
      },
      "source": [
        "## Benchmark classifiers\n",
        "We train and test the datasets with 15 different classification models and get performance results for each model."
      ]
    },
    {
      "cell_type": "code",
      "metadata": {
        "id": "J9FnbKN8JDhX",
        "outputId": "41c58c8a-23d0-4d1d-e7a4-f3f75b15c16c",
        "colab": {
          "base_uri": "https://localhost:8080/"
        }
      },
      "source": [
        "def benchmark(clf):\n",
        "    print('_' * 80)\n",
        "    print(\"Training: \")\n",
        "    print(clf)\n",
        "    t0 = time()\n",
        "    clf.fit(X_train, y_train)\n",
        "    train_time = time() - t0\n",
        "    print(\"train time: %0.3fs\" % train_time)\n",
        "\n",
        "    t0 = time()\n",
        "    pred = clf.predict(X_test)\n",
        "    test_time = time() - t0\n",
        "    print(\"test time:  %0.3fs\" % test_time)\n",
        "\n",
        "    score = metrics.accuracy_score(y_test, pred)\n",
        "    print(\"accuracy:   %0.3f\" % score)\n",
        "\n",
        "    if hasattr(clf, 'coef_'):\n",
        "        print(\"dimensionality: %d\" % clf.coef_.shape[1])\n",
        "        print(\"density: %f\" % density(clf.coef_))\n",
        "\n",
        "        if opts.print_top10 and feature_names is not None:\n",
        "            print(\"top 10 keywords per class:\")\n",
        "            for i, label in enumerate(target_names):\n",
        "                top10 = np.argsort(clf.coef_[i])[-10:]\n",
        "                print(trim(\"%s: %s\" % (label, \" \".join(feature_names[top10]))))\n",
        "        print()\n",
        "\n",
        "    if opts.print_report:\n",
        "        print(\"classification report:\")\n",
        "        print(metrics.classification_report(y_test, pred,\n",
        "                                            target_names=target_names))\n",
        "\n",
        "    if opts.print_cm:\n",
        "        print(\"confusion matrix:\")\n",
        "        print(metrics.confusion_matrix(y_test, pred))\n",
        "\n",
        "    print()\n",
        "    clf_descr = str(clf).split('(')[0]\n",
        "    return clf_descr, score, train_time, test_time\n",
        "\n",
        "\n",
        "results = []\n",
        "for clf, name in (\n",
        "        (RidgeClassifier(tol=1e-2, solver=\"sag\"), \"Ridge Classifier\"),\n",
        "        (Perceptron(max_iter=50), \"Perceptron\"),\n",
        "        (PassiveAggressiveClassifier(max_iter=50),\n",
        "         \"Passive-Aggressive\"),\n",
        "        (KNeighborsClassifier(n_neighbors=10), \"kNN\"),\n",
        "        (RandomForestClassifier(), \"Random forest\")):\n",
        "    print('=' * 80)\n",
        "    print(name)\n",
        "    results.append(benchmark(clf))\n",
        "\n",
        "for penalty in [\"l2\", \"l1\"]:\n",
        "    print('=' * 80)\n",
        "    print(\"%s penalty\" % penalty.upper())\n",
        "    # Train Liblinear model\n",
        "    results.append(benchmark(LinearSVC(penalty=penalty, dual=False,\n",
        "                                       tol=1e-3)))\n",
        "\n",
        "    # Train SGD model\n",
        "    results.append(benchmark(SGDClassifier(alpha=.0001, max_iter=50,\n",
        "                                           penalty=penalty)))\n",
        "\n",
        "# Train SGD with Elastic Net penalty\n",
        "print('=' * 80)\n",
        "print(\"Elastic-Net penalty\")\n",
        "results.append(benchmark(SGDClassifier(alpha=.0001, max_iter=50,\n",
        "                                       penalty=\"elasticnet\")))\n",
        "\n",
        "# Train NearestCentroid without threshold\n",
        "print('=' * 80)\n",
        "print(\"NearestCentroid (aka Rocchio classifier)\")\n",
        "results.append(benchmark(NearestCentroid()))\n",
        "\n",
        "# Train sparse Naive Bayes classifiers\n",
        "print('=' * 80)\n",
        "print(\"Naive Bayes\")\n",
        "results.append(benchmark(MultinomialNB(alpha=.01)))\n",
        "results.append(benchmark(BernoulliNB(alpha=.01)))\n",
        "results.append(benchmark(ComplementNB(alpha=.1)))\n",
        "\n",
        "print('=' * 80)\n",
        "print(\"LinearSVC with L1-based feature selection\")\n",
        "# The smaller C, the stronger the regularization.\n",
        "# The more regularization, the more sparsity.\n",
        "results.append(benchmark(Pipeline([\n",
        "  ('feature_selection', SelectFromModel(LinearSVC(penalty=\"l1\", dual=False,\n",
        "                                                  tol=1e-3))),\n",
        "  ('classification', LinearSVC(penalty=\"l2\"))])))"
      ],
      "execution_count": 9,
      "outputs": [
        {
          "output_type": "stream",
          "text": [
            "================================================================================\n",
            "Ridge Classifier\n",
            "________________________________________________________________________________\n",
            "Training: \n",
            "RidgeClassifier(alpha=1.0, class_weight=None, copy_X=True, fit_intercept=True,\n",
            "                max_iter=None, normalize=False, random_state=None, solver='sag',\n",
            "                tol=0.01)\n"
          ],
          "name": "stdout"
        },
        {
          "output_type": "stream",
          "text": [
            "/usr/local/lib/python3.6/dist-packages/sklearn/linear_model/_ridge.py:558: UserWarning: \"sag\" solver requires many iterations to fit an intercept with sparse inputs. Either set the solver to \"auto\" or \"sparse_cg\", or set a low \"tol\" and a high \"max_iter\" (especially if inputs are not standardized).\n",
            "  '\"sag\" solver requires many iterations to fit '\n"
          ],
          "name": "stderr"
        },
        {
          "output_type": "stream",
          "text": [
            "train time: 8.485s\n",
            "test time:  0.022s\n",
            "accuracy:   0.743\n",
            "dimensionality: 13946\n",
            "density: 0.999990\n",
            "\n",
            "\n",
            "================================================================================\n",
            "Perceptron\n",
            "________________________________________________________________________________\n",
            "Training: \n",
            "Perceptron(alpha=0.0001, class_weight=None, early_stopping=False, eta0=1.0,\n",
            "           fit_intercept=True, max_iter=50, n_iter_no_change=5, n_jobs=None,\n",
            "           penalty=None, random_state=0, shuffle=True, tol=0.001,\n",
            "           validation_fraction=0.1, verbose=0, warm_start=False)\n",
            "train time: 2.357s\n",
            "test time:  0.025s\n",
            "accuracy:   0.716\n",
            "dimensionality: 13946\n",
            "density: 0.026631\n",
            "\n",
            "\n",
            "================================================================================\n",
            "Passive-Aggressive\n",
            "________________________________________________________________________________\n",
            "Training: \n",
            "PassiveAggressiveClassifier(C=1.0, average=False, class_weight=None,\n",
            "                            early_stopping=False, fit_intercept=True,\n",
            "                            loss='hinge', max_iter=50, n_iter_no_change=5,\n",
            "                            n_jobs=None, random_state=None, shuffle=True,\n",
            "                            tol=0.001, validation_fraction=0.1, verbose=0,\n",
            "                            warm_start=False)\n",
            "train time: 2.951s\n",
            "test time:  0.024s\n",
            "accuracy:   0.722\n",
            "dimensionality: 13946\n",
            "density: 0.228870\n",
            "\n",
            "\n",
            "================================================================================\n",
            "kNN\n",
            "________________________________________________________________________________\n",
            "Training: \n",
            "KNeighborsClassifier(algorithm='auto', leaf_size=30, metric='minkowski',\n",
            "                     metric_params=None, n_jobs=None, n_neighbors=10, p=2,\n",
            "                     weights='uniform')\n",
            "train time: 0.058s\n",
            "test time:  14.216s\n",
            "accuracy:   0.682\n",
            "\n",
            "================================================================================\n",
            "Random forest\n",
            "________________________________________________________________________________\n",
            "Training: \n",
            "RandomForestClassifier(bootstrap=True, ccp_alpha=0.0, class_weight=None,\n",
            "                       criterion='gini', max_depth=None, max_features='auto',\n",
            "                       max_leaf_nodes=None, max_samples=None,\n",
            "                       min_impurity_decrease=0.0, min_impurity_split=None,\n",
            "                       min_samples_leaf=1, min_samples_split=2,\n",
            "                       min_weight_fraction_leaf=0.0, n_estimators=100,\n",
            "                       n_jobs=None, oob_score=False, random_state=None,\n",
            "                       verbose=0, warm_start=False)\n",
            "train time: 27.559s\n",
            "test time:  3.044s\n",
            "accuracy:   0.697\n",
            "\n",
            "================================================================================\n",
            "L2 penalty\n",
            "________________________________________________________________________________\n",
            "Training: \n",
            "LinearSVC(C=1.0, class_weight=None, dual=False, fit_intercept=True,\n",
            "          intercept_scaling=1, loss='squared_hinge', max_iter=1000,\n",
            "          multi_class='ovr', penalty='l2', random_state=None, tol=0.001,\n",
            "          verbose=0)\n",
            "train time: 6.151s\n",
            "test time:  0.025s\n",
            "accuracy:   0.733\n",
            "dimensionality: 13946\n",
            "density: 1.000000\n",
            "\n",
            "\n",
            "________________________________________________________________________________\n",
            "Training: \n",
            "SGDClassifier(alpha=0.0001, average=False, class_weight=None,\n",
            "              early_stopping=False, epsilon=0.1, eta0=0.0, fit_intercept=True,\n",
            "              l1_ratio=0.15, learning_rate='optimal', loss='hinge', max_iter=50,\n",
            "              n_iter_no_change=5, n_jobs=None, penalty='l2', power_t=0.5,\n",
            "              random_state=None, shuffle=True, tol=0.001,\n",
            "              validation_fraction=0.1, verbose=0, warm_start=False)\n",
            "train time: 2.813s\n",
            "test time:  0.035s\n",
            "accuracy:   0.733\n",
            "dimensionality: 13946\n",
            "density: 0.061578\n",
            "\n",
            "\n",
            "================================================================================\n",
            "L1 penalty\n",
            "________________________________________________________________________________\n",
            "Training: \n",
            "LinearSVC(C=1.0, class_weight=None, dual=False, fit_intercept=True,\n",
            "          intercept_scaling=1, loss='squared_hinge', max_iter=1000,\n",
            "          multi_class='ovr', penalty='l1', random_state=None, tol=0.001,\n",
            "          verbose=0)\n",
            "train time: 5.596s\n",
            "test time:  0.020s\n",
            "accuracy:   0.705\n",
            "dimensionality: 13946\n",
            "density: 0.004947\n",
            "\n",
            "\n",
            "________________________________________________________________________________\n",
            "Training: \n",
            "SGDClassifier(alpha=0.0001, average=False, class_weight=None,\n",
            "              early_stopping=False, epsilon=0.1, eta0=0.0, fit_intercept=True,\n",
            "              l1_ratio=0.15, learning_rate='optimal', loss='hinge', max_iter=50,\n",
            "              n_iter_no_change=5, n_jobs=None, penalty='l1', power_t=0.5,\n",
            "              random_state=None, shuffle=True, tol=0.001,\n",
            "              validation_fraction=0.1, verbose=0, warm_start=False)\n",
            "train time: 3.499s\n",
            "test time:  0.033s\n",
            "accuracy:   0.703\n",
            "dimensionality: 13946\n",
            "density: 0.002105\n",
            "\n",
            "\n",
            "================================================================================\n",
            "Elastic-Net penalty\n",
            "________________________________________________________________________________\n",
            "Training: \n",
            "SGDClassifier(alpha=0.0001, average=False, class_weight=None,\n",
            "              early_stopping=False, epsilon=0.1, eta0=0.0, fit_intercept=True,\n",
            "              l1_ratio=0.15, learning_rate='optimal', loss='hinge', max_iter=50,\n",
            "              n_iter_no_change=5, n_jobs=None, penalty='elasticnet',\n",
            "              power_t=0.5, random_state=None, shuffle=True, tol=0.001,\n",
            "              validation_fraction=0.1, verbose=0, warm_start=False)\n",
            "train time: 3.847s\n",
            "test time:  0.034s\n",
            "accuracy:   0.731\n",
            "dimensionality: 13946\n",
            "density: 0.012282\n",
            "\n",
            "\n",
            "================================================================================\n",
            "NearestCentroid (aka Rocchio classifier)\n",
            "________________________________________________________________________________\n",
            "Training: \n",
            "NearestCentroid(metric='euclidean', shrink_threshold=None)\n",
            "train time: 0.099s\n",
            "test time:  0.037s\n",
            "accuracy:   0.704\n",
            "\n",
            "================================================================================\n",
            "Naive Bayes\n",
            "________________________________________________________________________________\n",
            "Training: \n",
            "MultinomialNB(alpha=0.01, class_prior=None, fit_prior=True)\n",
            "train time: 0.300s\n",
            "test time:  0.024s\n",
            "accuracy:   0.708\n",
            "dimensionality: 13946\n",
            "density: 1.000000\n",
            "\n",
            "\n",
            "________________________________________________________________________________\n",
            "Training: \n",
            "BernoulliNB(alpha=0.01, binarize=0.0, class_prior=None, fit_prior=True)\n",
            "train time: 0.304s\n",
            "test time:  0.076s\n",
            "accuracy:   0.713\n",
            "dimensionality: 13946\n",
            "density: 1.000000\n",
            "\n",
            "\n",
            "________________________________________________________________________________\n",
            "Training: \n",
            "ComplementNB(alpha=0.1, class_prior=None, fit_prior=True, norm=False)\n",
            "train time: 0.315s\n",
            "test time:  0.019s\n",
            "accuracy:   0.693\n",
            "dimensionality: 13946\n",
            "density: 1.000000\n",
            "\n",
            "\n",
            "================================================================================\n",
            "LinearSVC with L1-based feature selection\n",
            "________________________________________________________________________________\n",
            "Training: \n",
            "Pipeline(memory=None,\n",
            "         steps=[('feature_selection',\n",
            "                 SelectFromModel(estimator=LinearSVC(C=1.0, class_weight=None,\n",
            "                                                     dual=False,\n",
            "                                                     fit_intercept=True,\n",
            "                                                     intercept_scaling=1,\n",
            "                                                     loss='squared_hinge',\n",
            "                                                     max_iter=1000,\n",
            "                                                     multi_class='ovr',\n",
            "                                                     penalty='l1',\n",
            "                                                     random_state=None,\n",
            "                                                     tol=0.001, verbose=0),\n",
            "                                 max_features=None, norm_order=1, prefit=False,\n",
            "                                 threshold=None)),\n",
            "                ('classification',\n",
            "                 LinearSVC(C=1.0, class_weight=None, dual=True,\n",
            "                           fit_intercept=True, intercept_scaling=1,\n",
            "                           loss='squared_hinge', max_iter=1000,\n",
            "                           multi_class='ovr', penalty='l2', random_state=None,\n",
            "                           tol=0.0001, verbose=0))],\n",
            "         verbose=False)\n",
            "train time: 8.788s\n",
            "test time:  0.024s\n",
            "accuracy:   0.706\n",
            "\n"
          ],
          "name": "stdout"
        }
      ]
    },
    {
      "cell_type": "markdown",
      "metadata": {
        "id": "t2nGdTiNKVBm"
      },
      "source": [
        "## Add plots\n",
        "The bar plot indicates the accuracy, training time (normalized) and test time (normalized) of each classifier."
      ]
    },
    {
      "cell_type": "code",
      "metadata": {
        "id": "-WdgsIRkJ48P",
        "outputId": "f51e84cd-a5b9-4a63-b8e5-30cdda3d6227",
        "colab": {
          "base_uri": "https://localhost:8080/",
          "height": 582
        }
      },
      "source": [
        "indices = np.arange(len(results))\n",
        "\n",
        "results = [[x[i] for x in results] for i in range(4)]\n",
        "\n",
        "clf_names, score, training_time, test_time = results\n",
        "training_time = np.array(training_time) / np.max(training_time)\n",
        "test_time = np.array(test_time) / np.max(test_time)\n",
        "\n",
        "plt.figure(figsize=(12, 8))\n",
        "plt.title(\"Score\")\n",
        "plt.barh(indices, score, .2, label=\"score\", color='navy')\n",
        "plt.barh(indices + .3, training_time, .2, label=\"training time\",\n",
        "         color='c')\n",
        "plt.barh(indices + .6, test_time, .2, label=\"test time\", color='darkorange')\n",
        "plt.yticks(())\n",
        "plt.legend(loc='best')\n",
        "plt.subplots_adjust(left=.25)\n",
        "plt.subplots_adjust(top=.95)\n",
        "plt.subplots_adjust(bottom=.05)\n",
        "\n",
        "for i, c in zip(indices, clf_names):\n",
        "    plt.text(-.3, i, c)\n",
        "\n",
        "plt.show()"
      ],
      "execution_count": 10,
      "outputs": [
        {
          "output_type": "display_data",
          "data": {
            "image/png": "[encoded data removed]",
            "text/plain": [
              "<Figure size 864x576 with 1 Axes>"
            ]
          },
          "metadata": {
            "tags": [],
            "needs_background": "light"
          }
        }
      ]
    },
    {
      "cell_type": "code",
      "metadata": {
        "id": "i6r2fscBR1d0",
        "outputId": "ac4db357-ae69-4269-99ea-4c0116a7508b",
        "colab": {
          "base_uri": "https://localhost:8080/"
        }
      },
      "source": [
        "results"
      ],
      "execution_count": 11,
      "outputs": [
        {
          "output_type": "execute_result",
          "data": {
            "text/plain": [
              "[['RidgeClassifier',\n",
              "  'Perceptron',\n",
              "  'PassiveAggressiveClassifier',\n",
              "  'KNeighborsClassifier',\n",
              "  'RandomForestClassifier',\n",
              "  'LinearSVC',\n",
              "  'SGDClassifier',\n",
              "  'LinearSVC',\n",
              "  'SGDClassifier',\n",
              "  'SGDClassifier',\n",
              "  'NearestCentroid',\n",
              "  'MultinomialNB',\n",
              "  'BernoulliNB',\n",
              "  'ComplementNB',\n",
              "  'Pipeline'],\n",
              " [0.7431721034870641,\n",
              "  0.7158155230596176,\n",
              "  0.7220247469066366,\n",
              "  0.6822497187851518,\n",
              "  0.6971428571428572,\n",
              "  0.7332283464566929,\n",
              "  0.7325084364454443,\n",
              "  0.7052418447694038,\n",
              "  0.7033970753655793,\n",
              "  0.7312485939257592,\n",
              "  0.7037120359955006,\n",
              "  0.7075365579302587,\n",
              "  0.712800899887514,\n",
              "  0.6925534308211474,\n",
              "  0.705511811023622],\n",
              " [8.484652519226074,\n",
              "  2.3568732738494873,\n",
              "  2.9510741233825684,\n",
              "  0.05773353576660156,\n",
              "  27.559076070785522,\n",
              "  6.151101112365723,\n",
              "  2.812594413757324,\n",
              "  5.595958471298218,\n",
              "  3.498669385910034,\n",
              "  3.8467330932617188,\n",
              "  0.09856271743774414,\n",
              "  0.3004629611968994,\n",
              "  0.30407118797302246,\n",
              "  0.31482434272766113,\n",
              "  8.787590503692627],\n",
              " [0.02167677879333496,\n",
              "  0.024863481521606445,\n",
              "  0.02367377281188965,\n",
              "  14.215787887573242,\n",
              "  3.0440189838409424,\n",
              "  0.02484416961669922,\n",
              "  0.03504681587219238,\n",
              "  0.019959688186645508,\n",
              "  0.03341245651245117,\n",
              "  0.0337986946105957,\n",
              "  0.03714156150817871,\n",
              "  0.023840904235839844,\n",
              "  0.07616305351257324,\n",
              "  0.01898193359375,\n",
              "  0.023979663848876953]]"
            ]
          },
          "metadata": {
            "tags": []
          },
          "execution_count": 11
        }
      ]
    },
    {
      "cell_type": "code",
      "metadata": {
        "id": "gR2wGhFZb5GB"
      },
      "source": [
        ""
      ],
      "execution_count": 11,
      "outputs": []
    }
  ]
}